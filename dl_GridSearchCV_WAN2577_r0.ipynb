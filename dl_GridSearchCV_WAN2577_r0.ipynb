{
 "cells": [
  {
   "cell_type": "code",
   "execution_count": 5,
   "metadata": {},
   "outputs": [],
   "source": [
    "import os\n",
    "\n",
    "import numpy as np\n",
    "import pandas as pd\n",
    "import matplotlib.pyplot as plt\n",
    "import seaborn as sns\n"
   ]
  },
  {
   "cell_type": "code",
   "execution_count": 6,
   "metadata": {},
   "outputs": [
    {
     "data": {
      "text/html": [
       "<div>\n",
       "<style scoped>\n",
       "    .dataframe tbody tr th:only-of-type {\n",
       "        vertical-align: middle;\n",
       "    }\n",
       "\n",
       "    .dataframe tbody tr th {\n",
       "        vertical-align: top;\n",
       "    }\n",
       "\n",
       "    .dataframe thead th {\n",
       "        text-align: right;\n",
       "    }\n",
       "</style>\n",
       "<table border=\"1\" class=\"dataframe\">\n",
       "  <thead>\n",
       "    <tr style=\"text-align: right;\">\n",
       "      <th></th>\n",
       "      <th>Time</th>\n",
       "      <th>BWACS_CL</th>\n",
       "      <th>BWACS_RPM</th>\n",
       "      <th>BWACS_Direction</th>\n",
       "      <th>CYL1_Wear_FS</th>\n",
       "      <th>CYL1_Wear_AS</th>\n",
       "      <th>CYL2_Wear_FS</th>\n",
       "      <th>CYL2_Wear_AS</th>\n",
       "      <th>CYL3_Wear_FS</th>\n",
       "      <th>CYL3_Wear_AS</th>\n",
       "      <th>...</th>\n",
       "      <th>EngRom_Temp</th>\n",
       "      <th>CYL1_LW_Temp_Mean</th>\n",
       "      <th>CYL2_LW_Temp_Mean</th>\n",
       "      <th>CYL3_LW_Temp_Mean</th>\n",
       "      <th>CYL4_LW_Temp_Mean</th>\n",
       "      <th>CYL5_LW_Temp_Mean</th>\n",
       "      <th>CYL6_LW_Temp_Mean</th>\n",
       "      <th>CYL7_LW_Temp_Mean</th>\n",
       "      <th>LW_Total_Temp_Mean</th>\n",
       "      <th>Engine_Load</th>\n",
       "    </tr>\n",
       "  </thead>\n",
       "  <tbody>\n",
       "    <tr>\n",
       "      <th>0</th>\n",
       "      <td>19.02.16 12:16:21</td>\n",
       "      <td>0</td>\n",
       "      <td>46.1</td>\n",
       "      <td>1</td>\n",
       "      <td>3539</td>\n",
       "      <td>3026</td>\n",
       "      <td>3473</td>\n",
       "      <td>3514</td>\n",
       "      <td>4055</td>\n",
       "      <td>3456</td>\n",
       "      <td>...</td>\n",
       "      <td>22.2</td>\n",
       "      <td>71.20</td>\n",
       "      <td>71.60</td>\n",
       "      <td>71.30</td>\n",
       "      <td>72.00</td>\n",
       "      <td>71.75</td>\n",
       "      <td>71.25</td>\n",
       "      <td>71.00</td>\n",
       "      <td>71.442857</td>\n",
       "      <td>11.280472</td>\n",
       "    </tr>\n",
       "    <tr>\n",
       "      <th>1</th>\n",
       "      <td>19.02.16 12:16:30</td>\n",
       "      <td>0</td>\n",
       "      <td>46.5</td>\n",
       "      <td>1</td>\n",
       "      <td>3503</td>\n",
       "      <td>3048</td>\n",
       "      <td>3446</td>\n",
       "      <td>3531</td>\n",
       "      <td>4068</td>\n",
       "      <td>3432</td>\n",
       "      <td>...</td>\n",
       "      <td>22.2</td>\n",
       "      <td>71.40</td>\n",
       "      <td>71.85</td>\n",
       "      <td>71.60</td>\n",
       "      <td>72.30</td>\n",
       "      <td>72.00</td>\n",
       "      <td>71.50</td>\n",
       "      <td>71.25</td>\n",
       "      <td>71.700000</td>\n",
       "      <td>11.211430</td>\n",
       "    </tr>\n",
       "    <tr>\n",
       "      <th>2</th>\n",
       "      <td>19.02.16 12:16:49</td>\n",
       "      <td>0</td>\n",
       "      <td>46.9</td>\n",
       "      <td>1</td>\n",
       "      <td>3531</td>\n",
       "      <td>3020</td>\n",
       "      <td>3453</td>\n",
       "      <td>3505</td>\n",
       "      <td>4042</td>\n",
       "      <td>3451</td>\n",
       "      <td>...</td>\n",
       "      <td>22.2</td>\n",
       "      <td>72.05</td>\n",
       "      <td>72.40</td>\n",
       "      <td>72.10</td>\n",
       "      <td>72.95</td>\n",
       "      <td>72.65</td>\n",
       "      <td>72.10</td>\n",
       "      <td>71.90</td>\n",
       "      <td>72.307143</td>\n",
       "      <td>11.769928</td>\n",
       "    </tr>\n",
       "    <tr>\n",
       "      <th>3</th>\n",
       "      <td>19.02.16 12:16:57</td>\n",
       "      <td>0</td>\n",
       "      <td>47.5</td>\n",
       "      <td>1</td>\n",
       "      <td>3540</td>\n",
       "      <td>2997</td>\n",
       "      <td>3474</td>\n",
       "      <td>3468</td>\n",
       "      <td>4043</td>\n",
       "      <td>3438</td>\n",
       "      <td>...</td>\n",
       "      <td>22.2</td>\n",
       "      <td>72.30</td>\n",
       "      <td>72.65</td>\n",
       "      <td>72.40</td>\n",
       "      <td>73.30</td>\n",
       "      <td>72.90</td>\n",
       "      <td>72.35</td>\n",
       "      <td>72.15</td>\n",
       "      <td>72.578571</td>\n",
       "      <td>13.110675</td>\n",
       "    </tr>\n",
       "    <tr>\n",
       "      <th>4</th>\n",
       "      <td>19.02.16 12:17:02</td>\n",
       "      <td>0</td>\n",
       "      <td>48.2</td>\n",
       "      <td>1</td>\n",
       "      <td>3536</td>\n",
       "      <td>2999</td>\n",
       "      <td>3472</td>\n",
       "      <td>3466</td>\n",
       "      <td>4027</td>\n",
       "      <td>3443</td>\n",
       "      <td>...</td>\n",
       "      <td>22.1</td>\n",
       "      <td>72.45</td>\n",
       "      <td>72.80</td>\n",
       "      <td>72.55</td>\n",
       "      <td>73.40</td>\n",
       "      <td>73.10</td>\n",
       "      <td>72.45</td>\n",
       "      <td>72.35</td>\n",
       "      <td>72.728571</td>\n",
       "      <td>13.277336</td>\n",
       "    </tr>\n",
       "    <tr>\n",
       "      <th>...</th>\n",
       "      <td>...</td>\n",
       "      <td>...</td>\n",
       "      <td>...</td>\n",
       "      <td>...</td>\n",
       "      <td>...</td>\n",
       "      <td>...</td>\n",
       "      <td>...</td>\n",
       "      <td>...</td>\n",
       "      <td>...</td>\n",
       "      <td>...</td>\n",
       "      <td>...</td>\n",
       "      <td>...</td>\n",
       "      <td>...</td>\n",
       "      <td>...</td>\n",
       "      <td>...</td>\n",
       "      <td>...</td>\n",
       "      <td>...</td>\n",
       "      <td>...</td>\n",
       "      <td>...</td>\n",
       "      <td>...</td>\n",
       "      <td>...</td>\n",
       "    </tr>\n",
       "    <tr>\n",
       "      <th>18805</th>\n",
       "      <td>19.02.16 16:43:57</td>\n",
       "      <td>2</td>\n",
       "      <td>79.8</td>\n",
       "      <td>1</td>\n",
       "      <td>3274</td>\n",
       "      <td>2588</td>\n",
       "      <td>3255</td>\n",
       "      <td>2861</td>\n",
       "      <td>3577</td>\n",
       "      <td>3181</td>\n",
       "      <td>...</td>\n",
       "      <td>28.3</td>\n",
       "      <td>139.50</td>\n",
       "      <td>138.25</td>\n",
       "      <td>135.65</td>\n",
       "      <td>139.95</td>\n",
       "      <td>135.85</td>\n",
       "      <td>144.50</td>\n",
       "      <td>137.25</td>\n",
       "      <td>138.707143</td>\n",
       "      <td>98.017943</td>\n",
       "    </tr>\n",
       "    <tr>\n",
       "      <th>18806</th>\n",
       "      <td>19.02.16 16:43:58</td>\n",
       "      <td>2</td>\n",
       "      <td>80.1</td>\n",
       "      <td>1</td>\n",
       "      <td>3298</td>\n",
       "      <td>2565</td>\n",
       "      <td>3239</td>\n",
       "      <td>2873</td>\n",
       "      <td>3570</td>\n",
       "      <td>3187</td>\n",
       "      <td>...</td>\n",
       "      <td>28.3</td>\n",
       "      <td>139.50</td>\n",
       "      <td>138.25</td>\n",
       "      <td>135.65</td>\n",
       "      <td>139.95</td>\n",
       "      <td>135.85</td>\n",
       "      <td>144.50</td>\n",
       "      <td>137.25</td>\n",
       "      <td>138.707143</td>\n",
       "      <td>98.017943</td>\n",
       "    </tr>\n",
       "    <tr>\n",
       "      <th>18807</th>\n",
       "      <td>19.02.16 16:43:59</td>\n",
       "      <td>2</td>\n",
       "      <td>80.0</td>\n",
       "      <td>1</td>\n",
       "      <td>3284</td>\n",
       "      <td>2567</td>\n",
       "      <td>3259</td>\n",
       "      <td>2867</td>\n",
       "      <td>3590</td>\n",
       "      <td>3158</td>\n",
       "      <td>...</td>\n",
       "      <td>28.3</td>\n",
       "      <td>139.45</td>\n",
       "      <td>138.25</td>\n",
       "      <td>135.65</td>\n",
       "      <td>139.95</td>\n",
       "      <td>135.85</td>\n",
       "      <td>144.50</td>\n",
       "      <td>137.25</td>\n",
       "      <td>138.700000</td>\n",
       "      <td>97.457715</td>\n",
       "    </tr>\n",
       "    <tr>\n",
       "      <th>18808</th>\n",
       "      <td>19.02.16 16:43:59</td>\n",
       "      <td>2</td>\n",
       "      <td>80.0</td>\n",
       "      <td>1</td>\n",
       "      <td>3274</td>\n",
       "      <td>2587</td>\n",
       "      <td>3195</td>\n",
       "      <td>2915</td>\n",
       "      <td>3529</td>\n",
       "      <td>3202</td>\n",
       "      <td>...</td>\n",
       "      <td>28.3</td>\n",
       "      <td>139.45</td>\n",
       "      <td>138.25</td>\n",
       "      <td>135.65</td>\n",
       "      <td>139.95</td>\n",
       "      <td>135.85</td>\n",
       "      <td>144.50</td>\n",
       "      <td>137.25</td>\n",
       "      <td>138.700000</td>\n",
       "      <td>97.457715</td>\n",
       "    </tr>\n",
       "    <tr>\n",
       "      <th>18809</th>\n",
       "      <td>19.02.16 16:44:00</td>\n",
       "      <td>2</td>\n",
       "      <td>80.1</td>\n",
       "      <td>1</td>\n",
       "      <td>3284</td>\n",
       "      <td>2585</td>\n",
       "      <td>3249</td>\n",
       "      <td>2861</td>\n",
       "      <td>3553</td>\n",
       "      <td>3208</td>\n",
       "      <td>...</td>\n",
       "      <td>28.3</td>\n",
       "      <td>139.45</td>\n",
       "      <td>138.25</td>\n",
       "      <td>135.65</td>\n",
       "      <td>139.95</td>\n",
       "      <td>135.85</td>\n",
       "      <td>144.50</td>\n",
       "      <td>137.25</td>\n",
       "      <td>138.700000</td>\n",
       "      <td>97.457715</td>\n",
       "    </tr>\n",
       "  </tbody>\n",
       "</table>\n",
       "<p>18810 rows × 177 columns</p>\n",
       "</div>"
      ],
      "text/plain": [
       "                    Time  BWACS_CL  BWACS_RPM  BWACS_Direction  CYL1_Wear_FS  \\\n",
       "0      19.02.16 12:16:21         0       46.1                1          3539   \n",
       "1      19.02.16 12:16:30         0       46.5                1          3503   \n",
       "2      19.02.16 12:16:49         0       46.9                1          3531   \n",
       "3      19.02.16 12:16:57         0       47.5                1          3540   \n",
       "4      19.02.16 12:17:02         0       48.2                1          3536   \n",
       "...                  ...       ...        ...              ...           ...   \n",
       "18805  19.02.16 16:43:57         2       79.8                1          3274   \n",
       "18806  19.02.16 16:43:58         2       80.1                1          3298   \n",
       "18807  19.02.16 16:43:59         2       80.0                1          3284   \n",
       "18808  19.02.16 16:43:59         2       80.0                1          3274   \n",
       "18809  19.02.16 16:44:00         2       80.1                1          3284   \n",
       "\n",
       "       CYL1_Wear_AS  CYL2_Wear_FS  CYL2_Wear_AS  CYL3_Wear_FS  CYL3_Wear_AS  \\\n",
       "0              3026          3473          3514          4055          3456   \n",
       "1              3048          3446          3531          4068          3432   \n",
       "2              3020          3453          3505          4042          3451   \n",
       "3              2997          3474          3468          4043          3438   \n",
       "4              2999          3472          3466          4027          3443   \n",
       "...             ...           ...           ...           ...           ...   \n",
       "18805          2588          3255          2861          3577          3181   \n",
       "18806          2565          3239          2873          3570          3187   \n",
       "18807          2567          3259          2867          3590          3158   \n",
       "18808          2587          3195          2915          3529          3202   \n",
       "18809          2585          3249          2861          3553          3208   \n",
       "\n",
       "       ...  EngRom_Temp  CYL1_LW_Temp_Mean  CYL2_LW_Temp_Mean  \\\n",
       "0      ...         22.2              71.20              71.60   \n",
       "1      ...         22.2              71.40              71.85   \n",
       "2      ...         22.2              72.05              72.40   \n",
       "3      ...         22.2              72.30              72.65   \n",
       "4      ...         22.1              72.45              72.80   \n",
       "...    ...          ...                ...                ...   \n",
       "18805  ...         28.3             139.50             138.25   \n",
       "18806  ...         28.3             139.50             138.25   \n",
       "18807  ...         28.3             139.45             138.25   \n",
       "18808  ...         28.3             139.45             138.25   \n",
       "18809  ...         28.3             139.45             138.25   \n",
       "\n",
       "       CYL3_LW_Temp_Mean  CYL4_LW_Temp_Mean  CYL5_LW_Temp_Mean  \\\n",
       "0                  71.30              72.00              71.75   \n",
       "1                  71.60              72.30              72.00   \n",
       "2                  72.10              72.95              72.65   \n",
       "3                  72.40              73.30              72.90   \n",
       "4                  72.55              73.40              73.10   \n",
       "...                  ...                ...                ...   \n",
       "18805             135.65             139.95             135.85   \n",
       "18806             135.65             139.95             135.85   \n",
       "18807             135.65             139.95             135.85   \n",
       "18808             135.65             139.95             135.85   \n",
       "18809             135.65             139.95             135.85   \n",
       "\n",
       "       CYL6_LW_Temp_Mean  CYL7_LW_Temp_Mean  LW_Total_Temp_Mean  Engine_Load  \n",
       "0                  71.25              71.00           71.442857    11.280472  \n",
       "1                  71.50              71.25           71.700000    11.211430  \n",
       "2                  72.10              71.90           72.307143    11.769928  \n",
       "3                  72.35              72.15           72.578571    13.110675  \n",
       "4                  72.45              72.35           72.728571    13.277336  \n",
       "...                  ...                ...                 ...          ...  \n",
       "18805             144.50             137.25          138.707143    98.017943  \n",
       "18806             144.50             137.25          138.707143    98.017943  \n",
       "18807             144.50             137.25          138.700000    97.457715  \n",
       "18808             144.50             137.25          138.700000    97.457715  \n",
       "18809             144.50             137.25          138.700000    97.457715  \n",
       "\n",
       "[18810 rows x 177 columns]"
      ]
     },
     "execution_count": 6,
     "metadata": {},
     "output_type": "execute_result"
    }
   ],
   "source": [
    "raw_train_data = pd.read_csv(\"D:\\\\Workspace\\\\WAN_2577_Shop_Test_Data_Sets\\\\0. 전처리 데이터\\\\WAN2577_Official_Test_Data_Pre_Process(240122)_rev.csv\")\n",
    "raw_train_data"
   ]
  },
  {
   "cell_type": "code",
   "execution_count": 7,
   "metadata": {},
   "outputs": [
    {
     "data": {
      "text/html": [
       "<div>\n",
       "<style scoped>\n",
       "    .dataframe tbody tr th:only-of-type {\n",
       "        vertical-align: middle;\n",
       "    }\n",
       "\n",
       "    .dataframe tbody tr th {\n",
       "        vertical-align: top;\n",
       "    }\n",
       "\n",
       "    .dataframe thead th {\n",
       "        text-align: right;\n",
       "    }\n",
       "</style>\n",
       "<table border=\"1\" class=\"dataframe\">\n",
       "  <thead>\n",
       "    <tr style=\"text-align: right;\">\n",
       "      <th></th>\n",
       "      <th>BWACS_RPM</th>\n",
       "      <th>CYL1_Wear_FS</th>\n",
       "      <th>CYL1_Wear_AS</th>\n",
       "      <th>CYL2_Wear_FS</th>\n",
       "      <th>CYL2_Wear_AS</th>\n",
       "      <th>CYL3_Wear_FS</th>\n",
       "      <th>CYL3_Wear_AS</th>\n",
       "      <th>CYL4_Wear_FS</th>\n",
       "      <th>CYL4_Wear_AS</th>\n",
       "      <th>CYL5_Wear_FS</th>\n",
       "      <th>...</th>\n",
       "      <th>EngRom_Temp</th>\n",
       "      <th>CYL1_LW_Temp_Mean</th>\n",
       "      <th>CYL2_LW_Temp_Mean</th>\n",
       "      <th>CYL3_LW_Temp_Mean</th>\n",
       "      <th>CYL4_LW_Temp_Mean</th>\n",
       "      <th>CYL5_LW_Temp_Mean</th>\n",
       "      <th>CYL6_LW_Temp_Mean</th>\n",
       "      <th>CYL7_LW_Temp_Mean</th>\n",
       "      <th>LW_Total_Temp_Mean</th>\n",
       "      <th>Engine_Load</th>\n",
       "    </tr>\n",
       "  </thead>\n",
       "  <tbody>\n",
       "    <tr>\n",
       "      <th>0</th>\n",
       "      <td>46.1</td>\n",
       "      <td>3539</td>\n",
       "      <td>3026</td>\n",
       "      <td>3473</td>\n",
       "      <td>3514</td>\n",
       "      <td>4055</td>\n",
       "      <td>3456</td>\n",
       "      <td>3255</td>\n",
       "      <td>4152</td>\n",
       "      <td>3614</td>\n",
       "      <td>...</td>\n",
       "      <td>22.2</td>\n",
       "      <td>71.20</td>\n",
       "      <td>71.60</td>\n",
       "      <td>71.30</td>\n",
       "      <td>72.00</td>\n",
       "      <td>71.75</td>\n",
       "      <td>71.25</td>\n",
       "      <td>71.00</td>\n",
       "      <td>71.442857</td>\n",
       "      <td>11.280472</td>\n",
       "    </tr>\n",
       "    <tr>\n",
       "      <th>1</th>\n",
       "      <td>46.5</td>\n",
       "      <td>3503</td>\n",
       "      <td>3048</td>\n",
       "      <td>3446</td>\n",
       "      <td>3531</td>\n",
       "      <td>4068</td>\n",
       "      <td>3432</td>\n",
       "      <td>3244</td>\n",
       "      <td>4152</td>\n",
       "      <td>3629</td>\n",
       "      <td>...</td>\n",
       "      <td>22.2</td>\n",
       "      <td>71.40</td>\n",
       "      <td>71.85</td>\n",
       "      <td>71.60</td>\n",
       "      <td>72.30</td>\n",
       "      <td>72.00</td>\n",
       "      <td>71.50</td>\n",
       "      <td>71.25</td>\n",
       "      <td>71.700000</td>\n",
       "      <td>11.211430</td>\n",
       "    </tr>\n",
       "    <tr>\n",
       "      <th>2</th>\n",
       "      <td>46.9</td>\n",
       "      <td>3531</td>\n",
       "      <td>3020</td>\n",
       "      <td>3453</td>\n",
       "      <td>3505</td>\n",
       "      <td>4042</td>\n",
       "      <td>3451</td>\n",
       "      <td>3242</td>\n",
       "      <td>4145</td>\n",
       "      <td>3636</td>\n",
       "      <td>...</td>\n",
       "      <td>22.2</td>\n",
       "      <td>72.05</td>\n",
       "      <td>72.40</td>\n",
       "      <td>72.10</td>\n",
       "      <td>72.95</td>\n",
       "      <td>72.65</td>\n",
       "      <td>72.10</td>\n",
       "      <td>71.90</td>\n",
       "      <td>72.307143</td>\n",
       "      <td>11.769928</td>\n",
       "    </tr>\n",
       "    <tr>\n",
       "      <th>3</th>\n",
       "      <td>47.5</td>\n",
       "      <td>3540</td>\n",
       "      <td>2997</td>\n",
       "      <td>3474</td>\n",
       "      <td>3468</td>\n",
       "      <td>4043</td>\n",
       "      <td>3438</td>\n",
       "      <td>3229</td>\n",
       "      <td>4147</td>\n",
       "      <td>3641</td>\n",
       "      <td>...</td>\n",
       "      <td>22.2</td>\n",
       "      <td>72.30</td>\n",
       "      <td>72.65</td>\n",
       "      <td>72.40</td>\n",
       "      <td>73.30</td>\n",
       "      <td>72.90</td>\n",
       "      <td>72.35</td>\n",
       "      <td>72.15</td>\n",
       "      <td>72.578571</td>\n",
       "      <td>13.110675</td>\n",
       "    </tr>\n",
       "    <tr>\n",
       "      <th>4</th>\n",
       "      <td>48.2</td>\n",
       "      <td>3536</td>\n",
       "      <td>2999</td>\n",
       "      <td>3472</td>\n",
       "      <td>3466</td>\n",
       "      <td>4027</td>\n",
       "      <td>3443</td>\n",
       "      <td>3250</td>\n",
       "      <td>4114</td>\n",
       "      <td>3627</td>\n",
       "      <td>...</td>\n",
       "      <td>22.1</td>\n",
       "      <td>72.45</td>\n",
       "      <td>72.80</td>\n",
       "      <td>72.55</td>\n",
       "      <td>73.40</td>\n",
       "      <td>73.10</td>\n",
       "      <td>72.45</td>\n",
       "      <td>72.35</td>\n",
       "      <td>72.728571</td>\n",
       "      <td>13.277336</td>\n",
       "    </tr>\n",
       "    <tr>\n",
       "      <th>...</th>\n",
       "      <td>...</td>\n",
       "      <td>...</td>\n",
       "      <td>...</td>\n",
       "      <td>...</td>\n",
       "      <td>...</td>\n",
       "      <td>...</td>\n",
       "      <td>...</td>\n",
       "      <td>...</td>\n",
       "      <td>...</td>\n",
       "      <td>...</td>\n",
       "      <td>...</td>\n",
       "      <td>...</td>\n",
       "      <td>...</td>\n",
       "      <td>...</td>\n",
       "      <td>...</td>\n",
       "      <td>...</td>\n",
       "      <td>...</td>\n",
       "      <td>...</td>\n",
       "      <td>...</td>\n",
       "      <td>...</td>\n",
       "      <td>...</td>\n",
       "    </tr>\n",
       "    <tr>\n",
       "      <th>18805</th>\n",
       "      <td>79.8</td>\n",
       "      <td>3274</td>\n",
       "      <td>2588</td>\n",
       "      <td>3255</td>\n",
       "      <td>2861</td>\n",
       "      <td>3577</td>\n",
       "      <td>3181</td>\n",
       "      <td>2751</td>\n",
       "      <td>3673</td>\n",
       "      <td>3098</td>\n",
       "      <td>...</td>\n",
       "      <td>28.3</td>\n",
       "      <td>139.50</td>\n",
       "      <td>138.25</td>\n",
       "      <td>135.65</td>\n",
       "      <td>139.95</td>\n",
       "      <td>135.85</td>\n",
       "      <td>144.50</td>\n",
       "      <td>137.25</td>\n",
       "      <td>138.707143</td>\n",
       "      <td>98.017943</td>\n",
       "    </tr>\n",
       "    <tr>\n",
       "      <th>18806</th>\n",
       "      <td>80.1</td>\n",
       "      <td>3298</td>\n",
       "      <td>2565</td>\n",
       "      <td>3239</td>\n",
       "      <td>2873</td>\n",
       "      <td>3570</td>\n",
       "      <td>3187</td>\n",
       "      <td>2708</td>\n",
       "      <td>3703</td>\n",
       "      <td>3066</td>\n",
       "      <td>...</td>\n",
       "      <td>28.3</td>\n",
       "      <td>139.50</td>\n",
       "      <td>138.25</td>\n",
       "      <td>135.65</td>\n",
       "      <td>139.95</td>\n",
       "      <td>135.85</td>\n",
       "      <td>144.50</td>\n",
       "      <td>137.25</td>\n",
       "      <td>138.707143</td>\n",
       "      <td>98.017943</td>\n",
       "    </tr>\n",
       "    <tr>\n",
       "      <th>18807</th>\n",
       "      <td>80.0</td>\n",
       "      <td>3284</td>\n",
       "      <td>2567</td>\n",
       "      <td>3259</td>\n",
       "      <td>2867</td>\n",
       "      <td>3590</td>\n",
       "      <td>3158</td>\n",
       "      <td>2806</td>\n",
       "      <td>3619</td>\n",
       "      <td>3145</td>\n",
       "      <td>...</td>\n",
       "      <td>28.3</td>\n",
       "      <td>139.45</td>\n",
       "      <td>138.25</td>\n",
       "      <td>135.65</td>\n",
       "      <td>139.95</td>\n",
       "      <td>135.85</td>\n",
       "      <td>144.50</td>\n",
       "      <td>137.25</td>\n",
       "      <td>138.700000</td>\n",
       "      <td>97.457715</td>\n",
       "    </tr>\n",
       "    <tr>\n",
       "      <th>18808</th>\n",
       "      <td>80.0</td>\n",
       "      <td>3274</td>\n",
       "      <td>2587</td>\n",
       "      <td>3195</td>\n",
       "      <td>2915</td>\n",
       "      <td>3529</td>\n",
       "      <td>3202</td>\n",
       "      <td>2748</td>\n",
       "      <td>3672</td>\n",
       "      <td>3085</td>\n",
       "      <td>...</td>\n",
       "      <td>28.3</td>\n",
       "      <td>139.45</td>\n",
       "      <td>138.25</td>\n",
       "      <td>135.65</td>\n",
       "      <td>139.95</td>\n",
       "      <td>135.85</td>\n",
       "      <td>144.50</td>\n",
       "      <td>137.25</td>\n",
       "      <td>138.700000</td>\n",
       "      <td>97.457715</td>\n",
       "    </tr>\n",
       "    <tr>\n",
       "      <th>18809</th>\n",
       "      <td>80.1</td>\n",
       "      <td>3284</td>\n",
       "      <td>2585</td>\n",
       "      <td>3249</td>\n",
       "      <td>2861</td>\n",
       "      <td>3553</td>\n",
       "      <td>3208</td>\n",
       "      <td>2756</td>\n",
       "      <td>3660</td>\n",
       "      <td>3163</td>\n",
       "      <td>...</td>\n",
       "      <td>28.3</td>\n",
       "      <td>139.45</td>\n",
       "      <td>138.25</td>\n",
       "      <td>135.65</td>\n",
       "      <td>139.95</td>\n",
       "      <td>135.85</td>\n",
       "      <td>144.50</td>\n",
       "      <td>137.25</td>\n",
       "      <td>138.700000</td>\n",
       "      <td>97.457715</td>\n",
       "    </tr>\n",
       "  </tbody>\n",
       "</table>\n",
       "<p>18810 rows × 172 columns</p>\n",
       "</div>"
      ],
      "text/plain": [
       "       BWACS_RPM  CYL1_Wear_FS  CYL1_Wear_AS  CYL2_Wear_FS  CYL2_Wear_AS  \\\n",
       "0           46.1          3539          3026          3473          3514   \n",
       "1           46.5          3503          3048          3446          3531   \n",
       "2           46.9          3531          3020          3453          3505   \n",
       "3           47.5          3540          2997          3474          3468   \n",
       "4           48.2          3536          2999          3472          3466   \n",
       "...          ...           ...           ...           ...           ...   \n",
       "18805       79.8          3274          2588          3255          2861   \n",
       "18806       80.1          3298          2565          3239          2873   \n",
       "18807       80.0          3284          2567          3259          2867   \n",
       "18808       80.0          3274          2587          3195          2915   \n",
       "18809       80.1          3284          2585          3249          2861   \n",
       "\n",
       "       CYL3_Wear_FS  CYL3_Wear_AS  CYL4_Wear_FS  CYL4_Wear_AS  CYL5_Wear_FS  \\\n",
       "0              4055          3456          3255          4152          3614   \n",
       "1              4068          3432          3244          4152          3629   \n",
       "2              4042          3451          3242          4145          3636   \n",
       "3              4043          3438          3229          4147          3641   \n",
       "4              4027          3443          3250          4114          3627   \n",
       "...             ...           ...           ...           ...           ...   \n",
       "18805          3577          3181          2751          3673          3098   \n",
       "18806          3570          3187          2708          3703          3066   \n",
       "18807          3590          3158          2806          3619          3145   \n",
       "18808          3529          3202          2748          3672          3085   \n",
       "18809          3553          3208          2756          3660          3163   \n",
       "\n",
       "       ...  EngRom_Temp  CYL1_LW_Temp_Mean  CYL2_LW_Temp_Mean  \\\n",
       "0      ...         22.2              71.20              71.60   \n",
       "1      ...         22.2              71.40              71.85   \n",
       "2      ...         22.2              72.05              72.40   \n",
       "3      ...         22.2              72.30              72.65   \n",
       "4      ...         22.1              72.45              72.80   \n",
       "...    ...          ...                ...                ...   \n",
       "18805  ...         28.3             139.50             138.25   \n",
       "18806  ...         28.3             139.50             138.25   \n",
       "18807  ...         28.3             139.45             138.25   \n",
       "18808  ...         28.3             139.45             138.25   \n",
       "18809  ...         28.3             139.45             138.25   \n",
       "\n",
       "       CYL3_LW_Temp_Mean  CYL4_LW_Temp_Mean  CYL5_LW_Temp_Mean  \\\n",
       "0                  71.30              72.00              71.75   \n",
       "1                  71.60              72.30              72.00   \n",
       "2                  72.10              72.95              72.65   \n",
       "3                  72.40              73.30              72.90   \n",
       "4                  72.55              73.40              73.10   \n",
       "...                  ...                ...                ...   \n",
       "18805             135.65             139.95             135.85   \n",
       "18806             135.65             139.95             135.85   \n",
       "18807             135.65             139.95             135.85   \n",
       "18808             135.65             139.95             135.85   \n",
       "18809             135.65             139.95             135.85   \n",
       "\n",
       "       CYL6_LW_Temp_Mean  CYL7_LW_Temp_Mean  LW_Total_Temp_Mean  Engine_Load  \n",
       "0                  71.25              71.00           71.442857    11.280472  \n",
       "1                  71.50              71.25           71.700000    11.211430  \n",
       "2                  72.10              71.90           72.307143    11.769928  \n",
       "3                  72.35              72.15           72.578571    13.110675  \n",
       "4                  72.45              72.35           72.728571    13.277336  \n",
       "...                  ...                ...                 ...          ...  \n",
       "18805             144.50             137.25          138.707143    98.017943  \n",
       "18806             144.50             137.25          138.707143    98.017943  \n",
       "18807             144.50             137.25          138.700000    97.457715  \n",
       "18808             144.50             137.25          138.700000    97.457715  \n",
       "18809             144.50             137.25          138.700000    97.457715  \n",
       "\n",
       "[18810 rows x 172 columns]"
      ]
     },
     "execution_count": 7,
     "metadata": {},
     "output_type": "execute_result"
    }
   ],
   "source": [
    "train_df = raw_train_data.drop(columns=['Time', 'BWACS_CL', 'BWACS_Direction'\n",
    "                                              , 'CYL1_LW_Temp_PS', 'CYL1_LW_Temp_ES'])\n",
    "train_df"
   ]
  },
  {
   "cell_type": "code",
   "execution_count": 8,
   "metadata": {},
   "outputs": [],
   "source": [
    "x_train = train_df.sample(frac=0.8,random_state=0)\n",
    "x_test = train_df.drop(x_train.index)\n",
    "\n",
    "y_train = x_train.pop('CYL1_LW_Temp_Mean')\n",
    "y_test = x_test.pop('CYL1_LW_Temp_Mean')"
   ]
  },
  {
   "cell_type": "code",
   "execution_count": 15,
   "metadata": {},
   "outputs": [],
   "source": [
    "from sklearn.linear_model import LinearRegression, Ridge, Lasso, ElasticNet\n",
    "from sklearn.preprocessing import PolynomialFeatures\n",
    "from sklearn.ensemble import ExtraTreesRegressor, RandomForestRegressor\n",
    "from sklearn.neighbors import KNeighborsRegressor\n",
    "from xgboost import XGBRegressor\n",
    "from catboost import CatBoostRegressor\n",
    "from lightgbm import LGBMRegressor\n",
    "\n",
    "import tensorflow as tf\n",
    "tf.config.set_visible_devices(tf.config.list_physical_devices('GPU'))\n",
    "\n",
    "import torch\n",
    "device = torch.device('cuda' if torch.cuda.is_available() else 'cpu')\n",
    "\n",
    "from sklearn.model_selection import GridSearchCV\n"
   ]
  },
  {
   "cell_type": "code",
   "execution_count": 20,
   "metadata": {},
   "outputs": [
    {
     "name": "stdout",
     "output_type": "stream",
     "text": [
      "Fitting 5 folds for each of 2 candidates, totalling 10 fits\n",
      "[CV] END .................................fit_intercept=True; total time=   0.0s\n"
     ]
    },
    {
     "name": "stderr",
     "output_type": "stream",
     "text": [
      "c:\\ProgramData\\anaconda3\\envs\\tf\\lib\\site-packages\\sklearn\\model_selection\\_validation.py:778: UserWarning: Scoring failed. The score on this train-test partition for these parameters will be set to nan. Details: \n",
      "Traceback (most recent call last):\n",
      "  File \"c:\\ProgramData\\anaconda3\\envs\\tf\\lib\\site-packages\\sklearn\\model_selection\\_validation.py\", line 767, in _score\n",
      "    scores = scorer(estimator, X_test, y_test)\n",
      "  File \"c:\\ProgramData\\anaconda3\\envs\\tf\\lib\\site-packages\\sklearn\\metrics\\_scorer.py\", line 234, in __call__\n",
      "    return self._score(\n",
      "  File \"c:\\ProgramData\\anaconda3\\envs\\tf\\lib\\site-packages\\sklearn\\metrics\\_scorer.py\", line 282, in _score\n",
      "    return self._sign * self._score_func(y_true, y_pred, **self._kwargs)\n",
      "  File \"c:\\ProgramData\\anaconda3\\envs\\tf\\lib\\site-packages\\sklearn\\utils\\_param_validation.py\", line 192, in wrapper\n",
      "    return func(*args, **kwargs)\n",
      "  File \"c:\\ProgramData\\anaconda3\\envs\\tf\\lib\\site-packages\\sklearn\\metrics\\_classification.py\", line 221, in accuracy_score\n",
      "    y_type, y_true, y_pred = _check_targets(y_true, y_pred)\n",
      "  File \"c:\\ProgramData\\anaconda3\\envs\\tf\\lib\\site-packages\\sklearn\\metrics\\_classification.py\", line 106, in _check_targets\n",
      "    raise ValueError(\"{0} is not supported\".format(y_type))\n",
      "ValueError: continuous is not supported\n",
      "\n",
      "  warnings.warn(\n",
      "c:\\ProgramData\\anaconda3\\envs\\tf\\lib\\site-packages\\sklearn\\model_selection\\_validation.py:778: UserWarning: Scoring failed. The score on this train-test partition for these parameters will be set to nan. Details: \n",
      "Traceback (most recent call last):\n",
      "  File \"c:\\ProgramData\\anaconda3\\envs\\tf\\lib\\site-packages\\sklearn\\model_selection\\_validation.py\", line 767, in _score\n",
      "    scores = scorer(estimator, X_test, y_test)\n",
      "  File \"c:\\ProgramData\\anaconda3\\envs\\tf\\lib\\site-packages\\sklearn\\metrics\\_scorer.py\", line 234, in __call__\n",
      "    return self._score(\n",
      "  File \"c:\\ProgramData\\anaconda3\\envs\\tf\\lib\\site-packages\\sklearn\\metrics\\_scorer.py\", line 282, in _score\n",
      "    return self._sign * self._score_func(y_true, y_pred, **self._kwargs)\n",
      "  File \"c:\\ProgramData\\anaconda3\\envs\\tf\\lib\\site-packages\\sklearn\\utils\\_param_validation.py\", line 192, in wrapper\n",
      "    return func(*args, **kwargs)\n",
      "  File \"c:\\ProgramData\\anaconda3\\envs\\tf\\lib\\site-packages\\sklearn\\metrics\\_classification.py\", line 221, in accuracy_score\n",
      "    y_type, y_true, y_pred = _check_targets(y_true, y_pred)\n",
      "  File \"c:\\ProgramData\\anaconda3\\envs\\tf\\lib\\site-packages\\sklearn\\metrics\\_classification.py\", line 106, in _check_targets\n",
      "    raise ValueError(\"{0} is not supported\".format(y_type))\n",
      "ValueError: continuous is not supported\n",
      "\n",
      "  warnings.warn(\n"
     ]
    },
    {
     "name": "stdout",
     "output_type": "stream",
     "text": [
      "[CV] END .................................fit_intercept=True; total time=   0.0s\n",
      "[CV] END .................................fit_intercept=True; total time=   0.0s\n"
     ]
    },
    {
     "name": "stderr",
     "output_type": "stream",
     "text": [
      "c:\\ProgramData\\anaconda3\\envs\\tf\\lib\\site-packages\\sklearn\\model_selection\\_validation.py:778: UserWarning: Scoring failed. The score on this train-test partition for these parameters will be set to nan. Details: \n",
      "Traceback (most recent call last):\n",
      "  File \"c:\\ProgramData\\anaconda3\\envs\\tf\\lib\\site-packages\\sklearn\\model_selection\\_validation.py\", line 767, in _score\n",
      "    scores = scorer(estimator, X_test, y_test)\n",
      "  File \"c:\\ProgramData\\anaconda3\\envs\\tf\\lib\\site-packages\\sklearn\\metrics\\_scorer.py\", line 234, in __call__\n",
      "    return self._score(\n",
      "  File \"c:\\ProgramData\\anaconda3\\envs\\tf\\lib\\site-packages\\sklearn\\metrics\\_scorer.py\", line 282, in _score\n",
      "    return self._sign * self._score_func(y_true, y_pred, **self._kwargs)\n",
      "  File \"c:\\ProgramData\\anaconda3\\envs\\tf\\lib\\site-packages\\sklearn\\utils\\_param_validation.py\", line 192, in wrapper\n",
      "    return func(*args, **kwargs)\n",
      "  File \"c:\\ProgramData\\anaconda3\\envs\\tf\\lib\\site-packages\\sklearn\\metrics\\_classification.py\", line 221, in accuracy_score\n",
      "    y_type, y_true, y_pred = _check_targets(y_true, y_pred)\n",
      "  File \"c:\\ProgramData\\anaconda3\\envs\\tf\\lib\\site-packages\\sklearn\\metrics\\_classification.py\", line 106, in _check_targets\n",
      "    raise ValueError(\"{0} is not supported\".format(y_type))\n",
      "ValueError: continuous is not supported\n",
      "\n",
      "  warnings.warn(\n",
      "c:\\ProgramData\\anaconda3\\envs\\tf\\lib\\site-packages\\sklearn\\model_selection\\_validation.py:778: UserWarning: Scoring failed. The score on this train-test partition for these parameters will be set to nan. Details: \n",
      "Traceback (most recent call last):\n",
      "  File \"c:\\ProgramData\\anaconda3\\envs\\tf\\lib\\site-packages\\sklearn\\model_selection\\_validation.py\", line 767, in _score\n",
      "    scores = scorer(estimator, X_test, y_test)\n",
      "  File \"c:\\ProgramData\\anaconda3\\envs\\tf\\lib\\site-packages\\sklearn\\metrics\\_scorer.py\", line 234, in __call__\n",
      "    return self._score(\n",
      "  File \"c:\\ProgramData\\anaconda3\\envs\\tf\\lib\\site-packages\\sklearn\\metrics\\_scorer.py\", line 282, in _score\n",
      "    return self._sign * self._score_func(y_true, y_pred, **self._kwargs)\n",
      "  File \"c:\\ProgramData\\anaconda3\\envs\\tf\\lib\\site-packages\\sklearn\\utils\\_param_validation.py\", line 192, in wrapper\n",
      "    return func(*args, **kwargs)\n",
      "  File \"c:\\ProgramData\\anaconda3\\envs\\tf\\lib\\site-packages\\sklearn\\metrics\\_classification.py\", line 221, in accuracy_score\n",
      "    y_type, y_true, y_pred = _check_targets(y_true, y_pred)\n",
      "  File \"c:\\ProgramData\\anaconda3\\envs\\tf\\lib\\site-packages\\sklearn\\metrics\\_classification.py\", line 106, in _check_targets\n",
      "    raise ValueError(\"{0} is not supported\".format(y_type))\n",
      "ValueError: continuous is not supported\n",
      "\n",
      "  warnings.warn(\n"
     ]
    },
    {
     "name": "stdout",
     "output_type": "stream",
     "text": [
      "[CV] END .................................fit_intercept=True; total time=   0.0s\n",
      "[CV] END .................................fit_intercept=True; total time=   0.0s\n",
      "[CV] END ................................fit_intercept=False; total time=   0.0s\n"
     ]
    },
    {
     "name": "stderr",
     "output_type": "stream",
     "text": [
      "c:\\ProgramData\\anaconda3\\envs\\tf\\lib\\site-packages\\sklearn\\model_selection\\_validation.py:778: UserWarning: Scoring failed. The score on this train-test partition for these parameters will be set to nan. Details: \n",
      "Traceback (most recent call last):\n",
      "  File \"c:\\ProgramData\\anaconda3\\envs\\tf\\lib\\site-packages\\sklearn\\model_selection\\_validation.py\", line 767, in _score\n",
      "    scores = scorer(estimator, X_test, y_test)\n",
      "  File \"c:\\ProgramData\\anaconda3\\envs\\tf\\lib\\site-packages\\sklearn\\metrics\\_scorer.py\", line 234, in __call__\n",
      "    return self._score(\n",
      "  File \"c:\\ProgramData\\anaconda3\\envs\\tf\\lib\\site-packages\\sklearn\\metrics\\_scorer.py\", line 282, in _score\n",
      "    return self._sign * self._score_func(y_true, y_pred, **self._kwargs)\n",
      "  File \"c:\\ProgramData\\anaconda3\\envs\\tf\\lib\\site-packages\\sklearn\\utils\\_param_validation.py\", line 192, in wrapper\n",
      "    return func(*args, **kwargs)\n",
      "  File \"c:\\ProgramData\\anaconda3\\envs\\tf\\lib\\site-packages\\sklearn\\metrics\\_classification.py\", line 221, in accuracy_score\n",
      "    y_type, y_true, y_pred = _check_targets(y_true, y_pred)\n",
      "  File \"c:\\ProgramData\\anaconda3\\envs\\tf\\lib\\site-packages\\sklearn\\metrics\\_classification.py\", line 106, in _check_targets\n",
      "    raise ValueError(\"{0} is not supported\".format(y_type))\n",
      "ValueError: continuous is not supported\n",
      "\n",
      "  warnings.warn(\n",
      "c:\\ProgramData\\anaconda3\\envs\\tf\\lib\\site-packages\\sklearn\\model_selection\\_validation.py:778: UserWarning: Scoring failed. The score on this train-test partition for these parameters will be set to nan. Details: \n",
      "Traceback (most recent call last):\n",
      "  File \"c:\\ProgramData\\anaconda3\\envs\\tf\\lib\\site-packages\\sklearn\\model_selection\\_validation.py\", line 767, in _score\n",
      "    scores = scorer(estimator, X_test, y_test)\n",
      "  File \"c:\\ProgramData\\anaconda3\\envs\\tf\\lib\\site-packages\\sklearn\\metrics\\_scorer.py\", line 234, in __call__\n",
      "    return self._score(\n",
      "  File \"c:\\ProgramData\\anaconda3\\envs\\tf\\lib\\site-packages\\sklearn\\metrics\\_scorer.py\", line 282, in _score\n",
      "    return self._sign * self._score_func(y_true, y_pred, **self._kwargs)\n",
      "  File \"c:\\ProgramData\\anaconda3\\envs\\tf\\lib\\site-packages\\sklearn\\utils\\_param_validation.py\", line 192, in wrapper\n",
      "    return func(*args, **kwargs)\n",
      "  File \"c:\\ProgramData\\anaconda3\\envs\\tf\\lib\\site-packages\\sklearn\\metrics\\_classification.py\", line 221, in accuracy_score\n",
      "    y_type, y_true, y_pred = _check_targets(y_true, y_pred)\n",
      "  File \"c:\\ProgramData\\anaconda3\\envs\\tf\\lib\\site-packages\\sklearn\\metrics\\_classification.py\", line 106, in _check_targets\n",
      "    raise ValueError(\"{0} is not supported\".format(y_type))\n",
      "ValueError: continuous is not supported\n",
      "\n",
      "  warnings.warn(\n",
      "c:\\ProgramData\\anaconda3\\envs\\tf\\lib\\site-packages\\sklearn\\model_selection\\_validation.py:778: UserWarning: Scoring failed. The score on this train-test partition for these parameters will be set to nan. Details: \n",
      "Traceback (most recent call last):\n",
      "  File \"c:\\ProgramData\\anaconda3\\envs\\tf\\lib\\site-packages\\sklearn\\model_selection\\_validation.py\", line 767, in _score\n",
      "    scores = scorer(estimator, X_test, y_test)\n",
      "  File \"c:\\ProgramData\\anaconda3\\envs\\tf\\lib\\site-packages\\sklearn\\metrics\\_scorer.py\", line 234, in __call__\n",
      "    return self._score(\n",
      "  File \"c:\\ProgramData\\anaconda3\\envs\\tf\\lib\\site-packages\\sklearn\\metrics\\_scorer.py\", line 282, in _score\n",
      "    return self._sign * self._score_func(y_true, y_pred, **self._kwargs)\n",
      "  File \"c:\\ProgramData\\anaconda3\\envs\\tf\\lib\\site-packages\\sklearn\\utils\\_param_validation.py\", line 192, in wrapper\n",
      "    return func(*args, **kwargs)\n",
      "  File \"c:\\ProgramData\\anaconda3\\envs\\tf\\lib\\site-packages\\sklearn\\metrics\\_classification.py\", line 221, in accuracy_score\n",
      "    y_type, y_true, y_pred = _check_targets(y_true, y_pred)\n",
      "  File \"c:\\ProgramData\\anaconda3\\envs\\tf\\lib\\site-packages\\sklearn\\metrics\\_classification.py\", line 106, in _check_targets\n",
      "    raise ValueError(\"{0} is not supported\".format(y_type))\n",
      "ValueError: continuous is not supported\n",
      "\n",
      "  warnings.warn(\n"
     ]
    },
    {
     "name": "stdout",
     "output_type": "stream",
     "text": [
      "[CV] END ................................fit_intercept=False; total time=   0.0s\n",
      "[CV] END ................................fit_intercept=False; total time=   0.0s\n",
      "[CV] END ................................fit_intercept=False; total time=   0.0s\n"
     ]
    },
    {
     "name": "stderr",
     "output_type": "stream",
     "text": [
      "c:\\ProgramData\\anaconda3\\envs\\tf\\lib\\site-packages\\sklearn\\model_selection\\_validation.py:778: UserWarning: Scoring failed. The score on this train-test partition for these parameters will be set to nan. Details: \n",
      "Traceback (most recent call last):\n",
      "  File \"c:\\ProgramData\\anaconda3\\envs\\tf\\lib\\site-packages\\sklearn\\model_selection\\_validation.py\", line 767, in _score\n",
      "    scores = scorer(estimator, X_test, y_test)\n",
      "  File \"c:\\ProgramData\\anaconda3\\envs\\tf\\lib\\site-packages\\sklearn\\metrics\\_scorer.py\", line 234, in __call__\n",
      "    return self._score(\n",
      "  File \"c:\\ProgramData\\anaconda3\\envs\\tf\\lib\\site-packages\\sklearn\\metrics\\_scorer.py\", line 282, in _score\n",
      "    return self._sign * self._score_func(y_true, y_pred, **self._kwargs)\n",
      "  File \"c:\\ProgramData\\anaconda3\\envs\\tf\\lib\\site-packages\\sklearn\\utils\\_param_validation.py\", line 192, in wrapper\n",
      "    return func(*args, **kwargs)\n",
      "  File \"c:\\ProgramData\\anaconda3\\envs\\tf\\lib\\site-packages\\sklearn\\metrics\\_classification.py\", line 221, in accuracy_score\n",
      "    y_type, y_true, y_pred = _check_targets(y_true, y_pred)\n",
      "  File \"c:\\ProgramData\\anaconda3\\envs\\tf\\lib\\site-packages\\sklearn\\metrics\\_classification.py\", line 106, in _check_targets\n",
      "    raise ValueError(\"{0} is not supported\".format(y_type))\n",
      "ValueError: continuous is not supported\n",
      "\n",
      "  warnings.warn(\n",
      "c:\\ProgramData\\anaconda3\\envs\\tf\\lib\\site-packages\\sklearn\\model_selection\\_validation.py:778: UserWarning: Scoring failed. The score on this train-test partition for these parameters will be set to nan. Details: \n",
      "Traceback (most recent call last):\n",
      "  File \"c:\\ProgramData\\anaconda3\\envs\\tf\\lib\\site-packages\\sklearn\\model_selection\\_validation.py\", line 767, in _score\n",
      "    scores = scorer(estimator, X_test, y_test)\n",
      "  File \"c:\\ProgramData\\anaconda3\\envs\\tf\\lib\\site-packages\\sklearn\\metrics\\_scorer.py\", line 234, in __call__\n",
      "    return self._score(\n",
      "  File \"c:\\ProgramData\\anaconda3\\envs\\tf\\lib\\site-packages\\sklearn\\metrics\\_scorer.py\", line 282, in _score\n",
      "    return self._sign * self._score_func(y_true, y_pred, **self._kwargs)\n",
      "  File \"c:\\ProgramData\\anaconda3\\envs\\tf\\lib\\site-packages\\sklearn\\utils\\_param_validation.py\", line 192, in wrapper\n",
      "    return func(*args, **kwargs)\n",
      "  File \"c:\\ProgramData\\anaconda3\\envs\\tf\\lib\\site-packages\\sklearn\\metrics\\_classification.py\", line 221, in accuracy_score\n",
      "    y_type, y_true, y_pred = _check_targets(y_true, y_pred)\n",
      "  File \"c:\\ProgramData\\anaconda3\\envs\\tf\\lib\\site-packages\\sklearn\\metrics\\_classification.py\", line 106, in _check_targets\n",
      "    raise ValueError(\"{0} is not supported\".format(y_type))\n",
      "ValueError: continuous is not supported\n",
      "\n",
      "  warnings.warn(\n",
      "c:\\ProgramData\\anaconda3\\envs\\tf\\lib\\site-packages\\sklearn\\model_selection\\_validation.py:778: UserWarning: Scoring failed. The score on this train-test partition for these parameters will be set to nan. Details: \n",
      "Traceback (most recent call last):\n",
      "  File \"c:\\ProgramData\\anaconda3\\envs\\tf\\lib\\site-packages\\sklearn\\model_selection\\_validation.py\", line 767, in _score\n",
      "    scores = scorer(estimator, X_test, y_test)\n",
      "  File \"c:\\ProgramData\\anaconda3\\envs\\tf\\lib\\site-packages\\sklearn\\metrics\\_scorer.py\", line 234, in __call__\n",
      "    return self._score(\n",
      "  File \"c:\\ProgramData\\anaconda3\\envs\\tf\\lib\\site-packages\\sklearn\\metrics\\_scorer.py\", line 282, in _score\n",
      "    return self._sign * self._score_func(y_true, y_pred, **self._kwargs)\n",
      "  File \"c:\\ProgramData\\anaconda3\\envs\\tf\\lib\\site-packages\\sklearn\\utils\\_param_validation.py\", line 192, in wrapper\n",
      "    return func(*args, **kwargs)\n",
      "  File \"c:\\ProgramData\\anaconda3\\envs\\tf\\lib\\site-packages\\sklearn\\metrics\\_classification.py\", line 221, in accuracy_score\n",
      "    y_type, y_true, y_pred = _check_targets(y_true, y_pred)\n",
      "  File \"c:\\ProgramData\\anaconda3\\envs\\tf\\lib\\site-packages\\sklearn\\metrics\\_classification.py\", line 106, in _check_targets\n",
      "    raise ValueError(\"{0} is not supported\".format(y_type))\n",
      "ValueError: continuous is not supported\n",
      "\n",
      "  warnings.warn(\n",
      "c:\\ProgramData\\anaconda3\\envs\\tf\\lib\\site-packages\\sklearn\\model_selection\\_search.py:952: UserWarning: One or more of the test scores are non-finite: [nan nan]\n",
      "  warnings.warn(\n"
     ]
    },
    {
     "name": "stdout",
     "output_type": "stream",
     "text": [
      "[CV] END ................................fit_intercept=False; total time=   0.0s\n",
      "==============================\n",
      "Best Parameters:  {'fit_intercept': True}\n",
      "Best Score (Negative MSE): nan\n",
      "Best Score (MSE): nan\n"
     ]
    }
   ],
   "source": [
    "param_lr = {'fit_intercept': [True, False]}\n",
    "gscv_lr = GridSearchCV(estimator=LinearRegression(), param_grid=param_lr, scoring='accuracy', cv=5, refit=True, n_jobs=1, verbose=2)\n",
    "gscv_lr.fit(x_train, y_train)\n",
    "\n",
    "print(\"=\"*30)\n",
    "print('Best Parameters: ', gscv_lr.best_params_)\n",
    "print('Best Score (Negative MSE): {:.4f}'.format(gscv_lr.best_score_))\n",
    "print(\"Best Score (MSE):\", -gscv_lr.best_score_)"
   ]
  },
  {
   "cell_type": "code",
   "execution_count": 21,
   "metadata": {},
   "outputs": [
    {
     "name": "stdout",
     "output_type": "stream",
     "text": [
      "Fitting 5 folds for each of 6 candidates, totalling 30 fits\n",
      "[CV] END ......................alpha=0.1, fit_intercept=True; total time=   0.0s\n",
      "[CV] END ......................alpha=0.1, fit_intercept=True; total time=   0.0s\n",
      "[CV] END ......................alpha=0.1, fit_intercept=True; total time=   0.0s\n",
      "[CV] END ......................alpha=0.1, fit_intercept=True; total time=   0.0s\n",
      "[CV] END ......................alpha=0.1, fit_intercept=True; total time=   0.0s\n",
      "[CV] END .....................alpha=0.1, fit_intercept=False; total time=   0.0s\n",
      "[CV] END .....................alpha=0.1, fit_intercept=False; total time=   0.0s\n",
      "[CV] END .....................alpha=0.1, fit_intercept=False; total time=   0.0s\n",
      "[CV] END .....................alpha=0.1, fit_intercept=False; total time=   0.0s\n",
      "[CV] END .....................alpha=0.1, fit_intercept=False; total time=   0.0s\n",
      "[CV] END ......................alpha=1.0, fit_intercept=True; total time=   0.0s\n",
      "[CV] END ......................alpha=1.0, fit_intercept=True; total time=   0.0s\n",
      "[CV] END ......................alpha=1.0, fit_intercept=True; total time=   0.0s\n",
      "[CV] END ......................alpha=1.0, fit_intercept=True; total time=   0.0s\n",
      "[CV] END ......................alpha=1.0, fit_intercept=True; total time=   0.0s\n",
      "[CV] END .....................alpha=1.0, fit_intercept=False; total time=   0.0s\n",
      "[CV] END .....................alpha=1.0, fit_intercept=False; total time=   0.0s\n",
      "[CV] END .....................alpha=1.0, fit_intercept=False; total time=   0.0s\n",
      "[CV] END .....................alpha=1.0, fit_intercept=False; total time=   0.0s\n",
      "[CV] END .....................alpha=1.0, fit_intercept=False; total time=   0.0s\n",
      "[CV] END .....................alpha=10.0, fit_intercept=True; total time=   0.0s\n",
      "[CV] END .....................alpha=10.0, fit_intercept=True; total time=   0.0s\n",
      "[CV] END .....................alpha=10.0, fit_intercept=True; total time=   0.0s\n",
      "[CV] END .....................alpha=10.0, fit_intercept=True; total time=   0.0s\n",
      "[CV] END .....................alpha=10.0, fit_intercept=True; total time=   0.0s\n",
      "[CV] END ....................alpha=10.0, fit_intercept=False; total time=   0.0s\n",
      "[CV] END ....................alpha=10.0, fit_intercept=False; total time=   0.0s\n",
      "[CV] END ....................alpha=10.0, fit_intercept=False; total time=   0.0s\n",
      "[CV] END ....................alpha=10.0, fit_intercept=False; total time=   0.0s\n",
      "[CV] END ....................alpha=10.0, fit_intercept=False; total time=   0.0s\n",
      "==============================\n",
      "Best Parameters:  {'alpha': 0.1, 'fit_intercept': False}\n",
      "Best Score (Negative MSE): -0.0000\n",
      "Best Score (MSE): 4.206782493705341e-06\n"
     ]
    }
   ],
   "source": [
    "param_ridge = {'alpha': [0.1, 1.0, 10.0], 'fit_intercept': [True, False]}\n",
    "gscv_ridge = GridSearchCV(estimator=Ridge(), param_grid=param_ridge, scoring='neg_mean_squared_error', cv=5, refit=True, n_jobs=1, verbose=2)\n",
    "gscv_ridge.fit(x_train, y_train)\n",
    "\n",
    "print(\"=\"*30)\n",
    "print('Best Parameters: ', gscv_ridge.best_params_)\n",
    "print('Best Score (Negative MSE): {:.4f}'.format(gscv_ridge.best_score_))\n",
    "print(\"Best Score (MSE):\", -gscv_ridge.best_score_)"
   ]
  },
  {
   "cell_type": "code",
   "execution_count": 23,
   "metadata": {},
   "outputs": [
    {
     "name": "stdout",
     "output_type": "stream",
     "text": [
      "Fitting 5 folds for each of 8 candidates, totalling 40 fits\n"
     ]
    },
    {
     "name": "stderr",
     "output_type": "stream",
     "text": [
      "c:\\ProgramData\\anaconda3\\envs\\tf\\lib\\site-packages\\sklearn\\linear_model\\_coordinate_descent.py:631: ConvergenceWarning: Objective did not converge. You might want to increase the number of iterations, check the scale of the features or consider increasing regularisation. Duality gap: 1.909e+03, tolerance: 2.802e+02\n",
      "  model = cd_fast.enet_coordinate_descent(\n"
     ]
    },
    {
     "name": "stdout",
     "output_type": "stream",
     "text": [
      "[CV] END .....................alpha=0.01, fit_intercept=True; total time=  14.1s\n"
     ]
    },
    {
     "name": "stderr",
     "output_type": "stream",
     "text": [
      "c:\\ProgramData\\anaconda3\\envs\\tf\\lib\\site-packages\\sklearn\\linear_model\\_coordinate_descent.py:631: ConvergenceWarning: Objective did not converge. You might want to increase the number of iterations, check the scale of the features or consider increasing regularisation. Duality gap: 1.901e+03, tolerance: 2.823e+02\n",
      "  model = cd_fast.enet_coordinate_descent(\n"
     ]
    },
    {
     "name": "stdout",
     "output_type": "stream",
     "text": [
      "[CV] END .....................alpha=0.01, fit_intercept=True; total time=  14.3s\n"
     ]
    },
    {
     "name": "stderr",
     "output_type": "stream",
     "text": [
      "c:\\ProgramData\\anaconda3\\envs\\tf\\lib\\site-packages\\sklearn\\linear_model\\_coordinate_descent.py:631: ConvergenceWarning: Objective did not converge. You might want to increase the number of iterations, check the scale of the features or consider increasing regularisation. Duality gap: 1.910e+03, tolerance: 2.819e+02\n",
      "  model = cd_fast.enet_coordinate_descent(\n"
     ]
    },
    {
     "name": "stdout",
     "output_type": "stream",
     "text": [
      "[CV] END .....................alpha=0.01, fit_intercept=True; total time=  14.2s\n"
     ]
    },
    {
     "name": "stderr",
     "output_type": "stream",
     "text": [
      "c:\\ProgramData\\anaconda3\\envs\\tf\\lib\\site-packages\\sklearn\\linear_model\\_coordinate_descent.py:631: ConvergenceWarning: Objective did not converge. You might want to increase the number of iterations, check the scale of the features or consider increasing regularisation. Duality gap: 1.911e+03, tolerance: 2.831e+02\n",
      "  model = cd_fast.enet_coordinate_descent(\n"
     ]
    },
    {
     "name": "stdout",
     "output_type": "stream",
     "text": [
      "[CV] END .....................alpha=0.01, fit_intercept=True; total time=  14.3s\n"
     ]
    },
    {
     "name": "stderr",
     "output_type": "stream",
     "text": [
      "c:\\ProgramData\\anaconda3\\envs\\tf\\lib\\site-packages\\sklearn\\linear_model\\_coordinate_descent.py:631: ConvergenceWarning: Objective did not converge. You might want to increase the number of iterations, check the scale of the features or consider increasing regularisation. Duality gap: 1.900e+03, tolerance: 2.790e+02\n",
      "  model = cd_fast.enet_coordinate_descent(\n"
     ]
    },
    {
     "name": "stdout",
     "output_type": "stream",
     "text": [
      "[CV] END .....................alpha=0.01, fit_intercept=True; total time=  14.7s\n",
      "[CV] END ....................alpha=0.01, fit_intercept=False; total time=  18.7s\n",
      "[CV] END ....................alpha=0.01, fit_intercept=False; total time=  18.6s\n",
      "[CV] END ....................alpha=0.01, fit_intercept=False; total time=  18.7s\n",
      "[CV] END ....................alpha=0.01, fit_intercept=False; total time=  18.7s\n",
      "[CV] END ....................alpha=0.01, fit_intercept=False; total time=  19.1s\n"
     ]
    },
    {
     "name": "stderr",
     "output_type": "stream",
     "text": [
      "c:\\ProgramData\\anaconda3\\envs\\tf\\lib\\site-packages\\sklearn\\linear_model\\_coordinate_descent.py:631: ConvergenceWarning: Objective did not converge. You might want to increase the number of iterations, check the scale of the features or consider increasing regularisation. Duality gap: 3.131e+03, tolerance: 2.802e+02\n",
      "  model = cd_fast.enet_coordinate_descent(\n"
     ]
    },
    {
     "name": "stdout",
     "output_type": "stream",
     "text": [
      "[CV] END ......................alpha=0.1, fit_intercept=True; total time=  10.8s\n"
     ]
    },
    {
     "name": "stderr",
     "output_type": "stream",
     "text": [
      "c:\\ProgramData\\anaconda3\\envs\\tf\\lib\\site-packages\\sklearn\\linear_model\\_coordinate_descent.py:631: ConvergenceWarning: Objective did not converge. You might want to increase the number of iterations, check the scale of the features or consider increasing regularisation. Duality gap: 3.124e+03, tolerance: 2.823e+02\n",
      "  model = cd_fast.enet_coordinate_descent(\n"
     ]
    },
    {
     "name": "stdout",
     "output_type": "stream",
     "text": [
      "[CV] END ......................alpha=0.1, fit_intercept=True; total time=  10.6s\n"
     ]
    },
    {
     "name": "stderr",
     "output_type": "stream",
     "text": [
      "c:\\ProgramData\\anaconda3\\envs\\tf\\lib\\site-packages\\sklearn\\linear_model\\_coordinate_descent.py:631: ConvergenceWarning: Objective did not converge. You might want to increase the number of iterations, check the scale of the features or consider increasing regularisation. Duality gap: 3.125e+03, tolerance: 2.819e+02\n",
      "  model = cd_fast.enet_coordinate_descent(\n"
     ]
    },
    {
     "name": "stdout",
     "output_type": "stream",
     "text": [
      "[CV] END ......................alpha=0.1, fit_intercept=True; total time=  10.6s\n"
     ]
    },
    {
     "name": "stderr",
     "output_type": "stream",
     "text": [
      "c:\\ProgramData\\anaconda3\\envs\\tf\\lib\\site-packages\\sklearn\\linear_model\\_coordinate_descent.py:631: ConvergenceWarning: Objective did not converge. You might want to increase the number of iterations, check the scale of the features or consider increasing regularisation. Duality gap: 3.136e+03, tolerance: 2.831e+02\n",
      "  model = cd_fast.enet_coordinate_descent(\n"
     ]
    },
    {
     "name": "stdout",
     "output_type": "stream",
     "text": [
      "[CV] END ......................alpha=0.1, fit_intercept=True; total time=  10.8s\n"
     ]
    },
    {
     "name": "stderr",
     "output_type": "stream",
     "text": [
      "c:\\ProgramData\\anaconda3\\envs\\tf\\lib\\site-packages\\sklearn\\linear_model\\_coordinate_descent.py:631: ConvergenceWarning: Objective did not converge. You might want to increase the number of iterations, check the scale of the features or consider increasing regularisation. Duality gap: 3.120e+03, tolerance: 2.790e+02\n",
      "  model = cd_fast.enet_coordinate_descent(\n"
     ]
    },
    {
     "name": "stdout",
     "output_type": "stream",
     "text": [
      "[CV] END ......................alpha=0.1, fit_intercept=True; total time=  10.7s\n"
     ]
    },
    {
     "name": "stderr",
     "output_type": "stream",
     "text": [
      "c:\\ProgramData\\anaconda3\\envs\\tf\\lib\\site-packages\\sklearn\\linear_model\\_coordinate_descent.py:631: ConvergenceWarning: Objective did not converge. You might want to increase the number of iterations, check the scale of the features or consider increasing regularisation. Duality gap: 1.730e+04, tolerance: 1.712e+04\n",
      "  model = cd_fast.enet_coordinate_descent(\n"
     ]
    },
    {
     "name": "stdout",
     "output_type": "stream",
     "text": [
      "[CV] END .....................alpha=0.1, fit_intercept=False; total time=  15.7s\n"
     ]
    },
    {
     "name": "stderr",
     "output_type": "stream",
     "text": [
      "c:\\ProgramData\\anaconda3\\envs\\tf\\lib\\site-packages\\sklearn\\linear_model\\_coordinate_descent.py:631: ConvergenceWarning: Objective did not converge. You might want to increase the number of iterations, check the scale of the features or consider increasing regularisation. Duality gap: 1.729e+04, tolerance: 1.711e+04\n",
      "  model = cd_fast.enet_coordinate_descent(\n"
     ]
    },
    {
     "name": "stdout",
     "output_type": "stream",
     "text": [
      "[CV] END .....................alpha=0.1, fit_intercept=False; total time=  15.8s\n"
     ]
    },
    {
     "name": "stderr",
     "output_type": "stream",
     "text": [
      "c:\\ProgramData\\anaconda3\\envs\\tf\\lib\\site-packages\\sklearn\\linear_model\\_coordinate_descent.py:631: ConvergenceWarning: Objective did not converge. You might want to increase the number of iterations, check the scale of the features or consider increasing regularisation. Duality gap: 1.734e+04, tolerance: 1.715e+04\n",
      "  model = cd_fast.enet_coordinate_descent(\n"
     ]
    },
    {
     "name": "stdout",
     "output_type": "stream",
     "text": [
      "[CV] END .....................alpha=0.1, fit_intercept=False; total time=  15.8s\n"
     ]
    },
    {
     "name": "stderr",
     "output_type": "stream",
     "text": [
      "c:\\ProgramData\\anaconda3\\envs\\tf\\lib\\site-packages\\sklearn\\linear_model\\_coordinate_descent.py:631: ConvergenceWarning: Objective did not converge. You might want to increase the number of iterations, check the scale of the features or consider increasing regularisation. Duality gap: 1.730e+04, tolerance: 1.713e+04\n",
      "  model = cd_fast.enet_coordinate_descent(\n"
     ]
    },
    {
     "name": "stdout",
     "output_type": "stream",
     "text": [
      "[CV] END .....................alpha=0.1, fit_intercept=False; total time=  15.7s\n"
     ]
    },
    {
     "name": "stderr",
     "output_type": "stream",
     "text": [
      "c:\\ProgramData\\anaconda3\\envs\\tf\\lib\\site-packages\\sklearn\\linear_model\\_coordinate_descent.py:631: ConvergenceWarning: Objective did not converge. You might want to increase the number of iterations, check the scale of the features or consider increasing regularisation. Duality gap: 1.727e+04, tolerance: 1.715e+04\n",
      "  model = cd_fast.enet_coordinate_descent(\n"
     ]
    },
    {
     "name": "stdout",
     "output_type": "stream",
     "text": [
      "[CV] END .....................alpha=0.1, fit_intercept=False; total time=  15.5s\n"
     ]
    },
    {
     "name": "stderr",
     "output_type": "stream",
     "text": [
      "c:\\ProgramData\\anaconda3\\envs\\tf\\lib\\site-packages\\sklearn\\linear_model\\_coordinate_descent.py:631: ConvergenceWarning: Objective did not converge. You might want to increase the number of iterations, check the scale of the features or consider increasing regularisation. Duality gap: 7.247e+03, tolerance: 2.802e+02\n",
      "  model = cd_fast.enet_coordinate_descent(\n"
     ]
    },
    {
     "name": "stdout",
     "output_type": "stream",
     "text": [
      "[CV] END ......................alpha=1.0, fit_intercept=True; total time=   8.3s\n"
     ]
    },
    {
     "name": "stderr",
     "output_type": "stream",
     "text": [
      "c:\\ProgramData\\anaconda3\\envs\\tf\\lib\\site-packages\\sklearn\\linear_model\\_coordinate_descent.py:631: ConvergenceWarning: Objective did not converge. You might want to increase the number of iterations, check the scale of the features or consider increasing regularisation. Duality gap: 7.151e+03, tolerance: 2.823e+02\n",
      "  model = cd_fast.enet_coordinate_descent(\n"
     ]
    },
    {
     "name": "stdout",
     "output_type": "stream",
     "text": [
      "[CV] END ......................alpha=1.0, fit_intercept=True; total time=   8.5s\n"
     ]
    },
    {
     "name": "stderr",
     "output_type": "stream",
     "text": [
      "c:\\ProgramData\\anaconda3\\envs\\tf\\lib\\site-packages\\sklearn\\linear_model\\_coordinate_descent.py:631: ConvergenceWarning: Objective did not converge. You might want to increase the number of iterations, check the scale of the features or consider increasing regularisation. Duality gap: 7.793e+03, tolerance: 2.819e+02\n",
      "  model = cd_fast.enet_coordinate_descent(\n"
     ]
    },
    {
     "name": "stdout",
     "output_type": "stream",
     "text": [
      "[CV] END ......................alpha=1.0, fit_intercept=True; total time=   8.5s\n"
     ]
    },
    {
     "name": "stderr",
     "output_type": "stream",
     "text": [
      "c:\\ProgramData\\anaconda3\\envs\\tf\\lib\\site-packages\\sklearn\\linear_model\\_coordinate_descent.py:631: ConvergenceWarning: Objective did not converge. You might want to increase the number of iterations, check the scale of the features or consider increasing regularisation. Duality gap: 7.239e+03, tolerance: 2.831e+02\n",
      "  model = cd_fast.enet_coordinate_descent(\n"
     ]
    },
    {
     "name": "stdout",
     "output_type": "stream",
     "text": [
      "[CV] END ......................alpha=1.0, fit_intercept=True; total time=   8.6s\n"
     ]
    },
    {
     "name": "stderr",
     "output_type": "stream",
     "text": [
      "c:\\ProgramData\\anaconda3\\envs\\tf\\lib\\site-packages\\sklearn\\linear_model\\_coordinate_descent.py:631: ConvergenceWarning: Objective did not converge. You might want to increase the number of iterations, check the scale of the features or consider increasing regularisation. Duality gap: 6.948e+03, tolerance: 2.790e+02\n",
      "  model = cd_fast.enet_coordinate_descent(\n"
     ]
    },
    {
     "name": "stdout",
     "output_type": "stream",
     "text": [
      "[CV] END ......................alpha=1.0, fit_intercept=True; total time=   8.6s\n"
     ]
    },
    {
     "name": "stderr",
     "output_type": "stream",
     "text": [
      "c:\\ProgramData\\anaconda3\\envs\\tf\\lib\\site-packages\\sklearn\\linear_model\\_coordinate_descent.py:631: ConvergenceWarning: Objective did not converge. You might want to increase the number of iterations, check the scale of the features or consider increasing regularisation. Duality gap: 3.969e+04, tolerance: 1.712e+04\n",
      "  model = cd_fast.enet_coordinate_descent(\n"
     ]
    },
    {
     "name": "stdout",
     "output_type": "stream",
     "text": [
      "[CV] END .....................alpha=1.0, fit_intercept=False; total time=  11.6s\n"
     ]
    },
    {
     "name": "stderr",
     "output_type": "stream",
     "text": [
      "c:\\ProgramData\\anaconda3\\envs\\tf\\lib\\site-packages\\sklearn\\linear_model\\_coordinate_descent.py:631: ConvergenceWarning: Objective did not converge. You might want to increase the number of iterations, check the scale of the features or consider increasing regularisation. Duality gap: 3.975e+04, tolerance: 1.711e+04\n",
      "  model = cd_fast.enet_coordinate_descent(\n"
     ]
    },
    {
     "name": "stdout",
     "output_type": "stream",
     "text": [
      "[CV] END .....................alpha=1.0, fit_intercept=False; total time=  11.8s\n"
     ]
    },
    {
     "name": "stderr",
     "output_type": "stream",
     "text": [
      "c:\\ProgramData\\anaconda3\\envs\\tf\\lib\\site-packages\\sklearn\\linear_model\\_coordinate_descent.py:631: ConvergenceWarning: Objective did not converge. You might want to increase the number of iterations, check the scale of the features or consider increasing regularisation. Duality gap: 3.989e+04, tolerance: 1.715e+04\n",
      "  model = cd_fast.enet_coordinate_descent(\n"
     ]
    },
    {
     "name": "stdout",
     "output_type": "stream",
     "text": [
      "[CV] END .....................alpha=1.0, fit_intercept=False; total time=  11.7s\n"
     ]
    },
    {
     "name": "stderr",
     "output_type": "stream",
     "text": [
      "c:\\ProgramData\\anaconda3\\envs\\tf\\lib\\site-packages\\sklearn\\linear_model\\_coordinate_descent.py:631: ConvergenceWarning: Objective did not converge. You might want to increase the number of iterations, check the scale of the features or consider increasing regularisation. Duality gap: 3.975e+04, tolerance: 1.713e+04\n",
      "  model = cd_fast.enet_coordinate_descent(\n"
     ]
    },
    {
     "name": "stdout",
     "output_type": "stream",
     "text": [
      "[CV] END .....................alpha=1.0, fit_intercept=False; total time=  11.5s\n"
     ]
    },
    {
     "name": "stderr",
     "output_type": "stream",
     "text": [
      "c:\\ProgramData\\anaconda3\\envs\\tf\\lib\\site-packages\\sklearn\\linear_model\\_coordinate_descent.py:631: ConvergenceWarning: Objective did not converge. You might want to increase the number of iterations, check the scale of the features or consider increasing regularisation. Duality gap: 3.971e+04, tolerance: 1.715e+04\n",
      "  model = cd_fast.enet_coordinate_descent(\n"
     ]
    },
    {
     "name": "stdout",
     "output_type": "stream",
     "text": [
      "[CV] END .....................alpha=1.0, fit_intercept=False; total time=  11.5s\n",
      "[CV] END .....................alpha=10.0, fit_intercept=True; total time=   6.6s\n"
     ]
    },
    {
     "name": "stderr",
     "output_type": "stream",
     "text": [
      "c:\\ProgramData\\anaconda3\\envs\\tf\\lib\\site-packages\\sklearn\\linear_model\\_coordinate_descent.py:631: ConvergenceWarning: Objective did not converge. You might want to increase the number of iterations, check the scale of the features or consider increasing regularisation. Duality gap: 1.170e+03, tolerance: 2.823e+02\n",
      "  model = cd_fast.enet_coordinate_descent(\n"
     ]
    },
    {
     "name": "stdout",
     "output_type": "stream",
     "text": [
      "[CV] END .....................alpha=10.0, fit_intercept=True; total time=   7.9s\n"
     ]
    },
    {
     "name": "stderr",
     "output_type": "stream",
     "text": [
      "c:\\ProgramData\\anaconda3\\envs\\tf\\lib\\site-packages\\sklearn\\linear_model\\_coordinate_descent.py:631: ConvergenceWarning: Objective did not converge. You might want to increase the number of iterations, check the scale of the features or consider increasing regularisation. Duality gap: 9.401e+02, tolerance: 2.819e+02\n",
      "  model = cd_fast.enet_coordinate_descent(\n"
     ]
    },
    {
     "name": "stdout",
     "output_type": "stream",
     "text": [
      "[CV] END .....................alpha=10.0, fit_intercept=True; total time=   7.5s\n",
      "[CV] END .....................alpha=10.0, fit_intercept=True; total time=   6.6s\n",
      "[CV] END .....................alpha=10.0, fit_intercept=True; total time=   3.8s\n"
     ]
    },
    {
     "name": "stderr",
     "output_type": "stream",
     "text": [
      "c:\\ProgramData\\anaconda3\\envs\\tf\\lib\\site-packages\\sklearn\\linear_model\\_coordinate_descent.py:631: ConvergenceWarning: Objective did not converge. You might want to increase the number of iterations, check the scale of the features or consider increasing regularisation. Duality gap: 1.079e+05, tolerance: 1.712e+04\n",
      "  model = cd_fast.enet_coordinate_descent(\n"
     ]
    },
    {
     "name": "stdout",
     "output_type": "stream",
     "text": [
      "[CV] END ....................alpha=10.0, fit_intercept=False; total time=   9.1s\n"
     ]
    },
    {
     "name": "stderr",
     "output_type": "stream",
     "text": [
      "c:\\ProgramData\\anaconda3\\envs\\tf\\lib\\site-packages\\sklearn\\linear_model\\_coordinate_descent.py:631: ConvergenceWarning: Objective did not converge. You might want to increase the number of iterations, check the scale of the features or consider increasing regularisation. Duality gap: 1.079e+05, tolerance: 1.711e+04\n",
      "  model = cd_fast.enet_coordinate_descent(\n"
     ]
    },
    {
     "name": "stdout",
     "output_type": "stream",
     "text": [
      "[CV] END ....................alpha=10.0, fit_intercept=False; total time=   9.2s\n"
     ]
    },
    {
     "name": "stderr",
     "output_type": "stream",
     "text": [
      "c:\\ProgramData\\anaconda3\\envs\\tf\\lib\\site-packages\\sklearn\\linear_model\\_coordinate_descent.py:631: ConvergenceWarning: Objective did not converge. You might want to increase the number of iterations, check the scale of the features or consider increasing regularisation. Duality gap: 1.079e+05, tolerance: 1.715e+04\n",
      "  model = cd_fast.enet_coordinate_descent(\n"
     ]
    },
    {
     "name": "stdout",
     "output_type": "stream",
     "text": [
      "[CV] END ....................alpha=10.0, fit_intercept=False; total time=   9.2s\n"
     ]
    },
    {
     "name": "stderr",
     "output_type": "stream",
     "text": [
      "c:\\ProgramData\\anaconda3\\envs\\tf\\lib\\site-packages\\sklearn\\linear_model\\_coordinate_descent.py:631: ConvergenceWarning: Objective did not converge. You might want to increase the number of iterations, check the scale of the features or consider increasing regularisation. Duality gap: 1.081e+05, tolerance: 1.713e+04\n",
      "  model = cd_fast.enet_coordinate_descent(\n"
     ]
    },
    {
     "name": "stdout",
     "output_type": "stream",
     "text": [
      "[CV] END ....................alpha=10.0, fit_intercept=False; total time=   9.1s\n"
     ]
    },
    {
     "name": "stderr",
     "output_type": "stream",
     "text": [
      "c:\\ProgramData\\anaconda3\\envs\\tf\\lib\\site-packages\\sklearn\\linear_model\\_coordinate_descent.py:631: ConvergenceWarning: Objective did not converge. You might want to increase the number of iterations, check the scale of the features or consider increasing regularisation. Duality gap: 1.081e+05, tolerance: 1.715e+04\n",
      "  model = cd_fast.enet_coordinate_descent(\n"
     ]
    },
    {
     "name": "stdout",
     "output_type": "stream",
     "text": [
      "[CV] END ....................alpha=10.0, fit_intercept=False; total time=   9.2s\n",
      "==============================\n",
      "Best Parameters:  {'alpha': 0.01, 'fit_intercept': True}\n",
      "Best Score (Negative MSE): -0.1564\n",
      "Best Score (MSE): 0.15640833539438131\n"
     ]
    },
    {
     "name": "stderr",
     "output_type": "stream",
     "text": [
      "c:\\ProgramData\\anaconda3\\envs\\tf\\lib\\site-packages\\sklearn\\linear_model\\_coordinate_descent.py:631: ConvergenceWarning: Objective did not converge. You might want to increase the number of iterations, check the scale of the features or consider increasing regularisation. Duality gap: 2.383e+03, tolerance: 3.516e+02\n",
      "  model = cd_fast.enet_coordinate_descent(\n"
     ]
    }
   ],
   "source": [
    "param_lasso = {'alpha': [0.01, 0.1, 1.0, 10.0], 'fit_intercept': [True, False]}\n",
    "gscv_lasso = GridSearchCV(estimator=Lasso(), param_grid=param_lasso, scoring='neg_mean_squared_error', cv=5, refit=True, n_jobs=1, verbose=2)\n",
    "gscv_lasso.fit(x_train, y_train)\n",
    "\n",
    "print(\"=\"*30)\n",
    "print('Best Parameters: ', gscv_lasso.best_params_)\n",
    "print('Best Score (Negative MSE): {:.4f}'.format(gscv_lasso.best_score_))\n",
    "print(\"Best Score (MSE):\", -gscv_lasso.best_score_)"
   ]
  },
  {
   "cell_type": "code",
   "execution_count": null,
   "metadata": {},
   "outputs": [],
   "source": [
    "param_elasticnet = {'alpha': [0.01, 0.1, 1.0, 10.0], 'l1_ratio': [0.1, 0.5, 0.9], 'fit_intercept': [True, False]}\n",
    "gscv_elasticnet = GridSearchCV(estimator=ElasticNet(), param_grid=param_elasticnet, scoring='neg_mean_squared_error', cv=5, refit=True, n_jobs=1, verbose=2)\n",
    "gscv_elasticnet.fit(x_train, y_train)\n",
    "\n",
    "print(\"=\"*30)\n",
    "print('Best Parameters: ', gscv_elasticnet.best_params_)\n",
    "print('Best Score (Negative MSE): {:.4f}'.format(gscv_elasticnet.best_score_))\n",
    "print(\"Best Score (MSE):\", -gscv_elasticnet.best_score_)"
   ]
  },
  {
   "cell_type": "code",
   "execution_count": null,
   "metadata": {},
   "outputs": [],
   "source": [
    "poly_features = PolynomialFeatures(degree=2)\n",
    "x_poly = poly_features.fit_transform(x_train)\n",
    "\n",
    "param_poly = {'fit_intercept': [True, False], 'normalize': [True, False]}\n",
    "gscv_poly = GridSearchCV(estimator=LinearRegression(), param_grid=param_poly, scoring='neg_mean_squared_error', cv=5, refit=True, n_jobs=1, verbose=2)\n",
    "gscv_poly.fit(x_poly, y_train)\n",
    "\n",
    "print(\"=\"*30)\n",
    "print('Best Parameters: ', gscv_poly.best_params_)\n",
    "print('Best Score (Negative MSE): {:.4f}'.format(gscv_poly.best_score_))\n",
    "print(\"Best Score (MSE):\", -gscv_poly.best_score_)"
   ]
  },
  {
   "cell_type": "code",
   "execution_count": null,
   "metadata": {},
   "outputs": [],
   "source": [
    "param_extra_trees = {'n_estimators': [100, 200, 300], 'max_depth': [3, 5, 7], 'min_samples_split': [2, 5, 10], 'min_samples_leaf': [1, 3, 5]}\n",
    "gscv_extra_trees = GridSearchCV(estimator=ExtraTreesRegressor(), param_grid=param_extra_trees, scoring='neg_mean_squared_error', cv=5, refit=True, n_jobs=1, verbose=2)\n",
    "gscv_extra_trees.fit(x_train, y_train)\n",
    "\n",
    "print(\"=\"*30)\n",
    "print('Best Parameters: ', gscv_extra_trees.best_params_)\n",
    "print('Best Score (Negative MSE): {:.4f}'.format(gscv_extra_trees.best_score_))\n",
    "print(\"Best Score (MSE):\", -gscv_extra_trees.best_score_)"
   ]
  },
  {
   "cell_type": "code",
   "execution_count": null,
   "metadata": {},
   "outputs": [],
   "source": [
    "param_rf = {'n_estimators': [100, 200, 300], 'max_depth': [3, 5, 7], 'min_samples_split': [2, 5, 10], 'min_samples_leaf': [1, 3, 5]}\n",
    "gscv_rf = GridSearchCV(estimator=RandomForestRegressor(), param_grid=param_rf, scoring='neg_mean_squared_error', cv=5, refit=True, n_jobs=1, verbose=2)\n",
    "gscv_rf.fit(x_train, y_train)\n",
    "\n",
    "print(\"=\"*30)\n",
    "print('Best Parameters: ', gscv_rf.best_params_)\n",
    "print('Best Score (Negative MSE): {:.4f}'.format(gscv_rf.best_score_))\n",
    "print(\"Best Score (MSE):\", -gscv_rf.best_score_)"
   ]
  },
  {
   "cell_type": "code",
   "execution_count": null,
   "metadata": {},
   "outputs": [],
   "source": [
    "param_knn = {'n_neighbors': [3, 5, 7], 'weights': ['uniform', 'distance']}\n",
    "gscv_knn = GridSearchCV(estimator=KNeighborsRegressor(), param_grid=param_knn, scoring='neg_mean_squared_error', cv=5, refit=True, n_jobs=1, verbose=2)\n",
    "gscv_knn.fit(x_train, y_train)\n",
    "\n",
    "print(\"=\"*30)\n",
    "print('Best Parameters: ', gscv_knn.best_params_)\n",
    "print('Best Score (Negative MSE): {:.4f}'.format(gscv_knn.best_score_))\n",
    "print(\"Best Score (MSE):\", -gscv_knn.best_score_)"
   ]
  },
  {
   "cell_type": "code",
   "execution_count": null,
   "metadata": {},
   "outputs": [],
   "source": [
    "param_catboost = {'iterations': [100, 200, 300], 'learning_rate': [0.01, 0.1, 1.0], 'depth': [3, 5, 7]}\n",
    "gscv_catboost = GridSearchCV(estimator=CatBoostRegressor(), param_grid=param_catboost, scoring='neg_mean_squared_error', cv=5, refit=True, n_jobs=1, verbose=2)\n",
    "gscv_catboost.fit(x_train, y_train)\n",
    "\n",
    "print(\"=\"*30)\n",
    "print('Best Parameters: ', gscv_catboost.best_params_)\n",
    "print('Best Score (Negative MSE): {:.4f}'.format(gscv_catboost.best_score_))\n",
    "print(\"Best Score (MSE):\", -gscv_catboost.best_score_)"
   ]
  },
  {
   "cell_type": "code",
   "execution_count": null,
   "metadata": {},
   "outputs": [],
   "source": [
    "param_lgbm = {'n_estimators': [100, 200, 300], 'learning_rate': [0.01, 0.1, 1.0], 'num_leaves': [31, 63, 127]}\n",
    "gscv_lgbm = GridSearchCV(estimator=LGBMRegressor(), param_grid=param_lgbm, scoring='neg_mean_squared_error', cv=5, refit=True, n_jobs=1, verbose=2)\n",
    "gscv_lgbm.fit(x_train, y_train)\n",
    "\n",
    "print(\"=\"*30)\n",
    "print('Best Parameters: ', gscv_lgbm.best_params_)\n",
    "print('Best Score (Negative MSE): {:.4f}'.format(gscv_lgbm.best_score_))\n",
    "print(\"Best Score (MSE):\", -gscv_lgbm.best_score_)"
   ]
  },
  {
   "cell_type": "code",
   "execution_count": null,
   "metadata": {},
   "outputs": [],
   "source": []
  },
  {
   "cell_type": "code",
   "execution_count": null,
   "metadata": {},
   "outputs": [],
   "source": []
  }
 ],
 "metadata": {
  "kernelspec": {
   "display_name": "Python 3",
   "language": "python",
   "name": "python3"
  },
  "language_info": {
   "codemirror_mode": {
    "name": "ipython",
    "version": 3
   },
   "file_extension": ".py",
   "mimetype": "text/x-python",
   "name": "python",
   "nbconvert_exporter": "python",
   "pygments_lexer": "ipython3",
   "version": "3.9.17"
  }
 },
 "nbformat": 4,
 "nbformat_minor": 2
}
